{
 "cells": [
  {
   "cell_type": "code",
   "execution_count": 4,
   "metadata": {},
   "outputs": [
    {
     "name": "stdout",
     "output_type": "stream",
     "text": [
      "es menor a cero\n"
     ]
    }
   ],
   "source": [
    "#1\n",
    "a = -2\n",
    "\n",
    "if a == 0:\n",
    "    print('es igual a cero')\n",
    "elif a > 0:\n",
    "    print('es mayor a cero')\n",
    "else:\n",
    "    print('es menor a cero')"
   ]
  },
  {
   "cell_type": "code",
   "execution_count": 7,
   "metadata": {},
   "outputs": [
    {
     "name": "stdout",
     "output_type": "stream",
     "text": [
      "no son iguales\n"
     ]
    }
   ],
   "source": [
    "#2\n",
    "a = 'ajo'\n",
    "b = 3.8\n",
    "\n",
    "if type(a) == type(b):\n",
    "    print('son del mismo tipo')\n",
    "else:\n",
    "    print('no son iguales')"
   ]
  },
  {
   "cell_type": "code",
   "execution_count": 2,
   "metadata": {},
   "outputs": [
    {
     "name": "stdout",
     "output_type": "stream",
     "text": [
      "1  es impar\n",
      "2  es par\n",
      "3  es impar\n",
      "4  es par\n",
      "5  es impar\n",
      "6  es par\n",
      "7  es impar\n",
      "8  es par\n",
      "9  es impar\n",
      "10  es par\n",
      "11  es impar\n",
      "12  es par\n",
      "13  es impar\n",
      "14  es par\n",
      "15  es impar\n",
      "16  es par\n",
      "17  es impar\n",
      "18  es par\n",
      "19  es impar\n"
     ]
    }
   ],
   "source": [
    "#3\n",
    "for n in range(1,20):\n",
    "    if n%2 == 0:\n",
    "        print(n, ' es par')\n",
    "    else:\n",
    "        print(n, ' es impar')"
   ]
  },
  {
   "cell_type": "code",
   "execution_count": 1,
   "metadata": {},
   "outputs": [
    {
     "name": "stdout",
     "output_type": "stream",
     "text": [
      "1  es impar\n",
      "2  es par\n",
      "3  es impar\n",
      "4  es par\n",
      "5  es impar\n",
      "6  es par\n",
      "7  es impar\n",
      "8  es par\n",
      "9  es impar\n",
      "10  es par\n",
      "11  es impar\n",
      "12  es par\n",
      "13  es impar\n",
      "14  es par\n",
      "15  es impar\n",
      "16  es par\n",
      "17  es impar\n",
      "18  es par\n",
      "19  es impar\n"
     ]
    }
   ],
   "source": [
    "#3\n",
    "n = 1\n",
    "while n<20:\n",
    "    if n%2 == 0:\n",
    "        print(n, ' es par')\n",
    "    else:\n",
    "        print(n, ' es impar')\n",
    "    n = n + 1"
   ]
  },
  {
   "cell_type": "code",
   "execution_count": 3,
   "metadata": {},
   "outputs": [
    {
     "name": "stdout",
     "output_type": "stream",
     "text": [
      "0  elevado por 3 da como resultado  0\n",
      "1  elevado por 3 da como resultado  1\n",
      "2  elevado por 3 da como resultado  8\n",
      "3  elevado por 3 da como resultado  27\n",
      "4  elevado por 3 da como resultado  64\n"
     ]
    }
   ],
   "source": [
    "#4\n",
    "for n in range (0,5):\n",
    "    a = n**3\n",
    "    print(n,' elevado por 3 da como resultado ', a)\n"
   ]
  },
  {
   "cell_type": "code",
   "execution_count": 4,
   "metadata": {},
   "outputs": [
    {
     "name": "stdout",
     "output_type": "stream",
     "text": [
      "0  elevado por 3 da como resultado  0\n",
      "1  elevado por 3 da como resultado  1\n",
      "2  elevado por 3 da como resultado  8\n",
      "3  elevado por 3 da como resultado  27\n",
      "4  elevado por 3 da como resultado  64\n"
     ]
    }
   ],
   "source": [
    "#4\n",
    "n = 0\n",
    "while n < 5:\n",
    "    a = n**3\n",
    "    print(n,' elevado por 3 da como resultado ', a)\n",
    "    n+=1"
   ]
  },
  {
   "cell_type": "code",
   "execution_count": 6,
   "metadata": {},
   "outputs": [
    {
     "name": "stdout",
     "output_type": "stream",
     "text": [
      "0\n",
      "1\n",
      "2\n",
      "3\n",
      "4\n",
      "5\n",
      "6\n",
      "7\n",
      "8\n",
      "9\n"
     ]
    }
   ],
   "source": [
    "#5\n",
    "a = 10\n",
    "for n in range(0,a):\n",
    "    print(n)\n"
   ]
  },
  {
   "cell_type": "code",
   "execution_count": 12,
   "metadata": {},
   "outputs": [
    {
     "name": "stdout",
     "output_type": "stream",
     "text": [
      "La variable no es mayor a cero\n"
     ]
    }
   ],
   "source": [
    "#6\n",
    "n = 0\n",
    "if (type(n) == int):\n",
    "    if (n > 0):\n",
    "        factorial = n\n",
    "        while (n > 2):\n",
    "            n = n - 1\n",
    "            factorial = factorial * n\n",
    "        print('El factorial es', factorial)\n",
    "    else:\n",
    "        print('La variable no es mayor a cero')\n",
    "else:\n",
    "    print('La variable no es un entero')\n"
   ]
  },
  {
   "cell_type": "code",
   "execution_count": 14,
   "metadata": {},
   "outputs": [
    {
     "name": "stdout",
     "output_type": "stream",
     "text": [
      "el factorial es  2\n"
     ]
    }
   ],
   "source": [
    "n = 2\n",
    "factorial = n\n",
    "while n > 2:\n",
    "    n-=1\n",
    "    factorial = factorial * n\n",
    "print('el factorial es ',factorial)"
   ]
  },
  {
   "cell_type": "code",
   "execution_count": 6,
   "metadata": {},
   "outputs": [
    {
     "name": "stdout",
     "output_type": "stream",
     "text": [
      "Dentro del while - ciclo:  0\n",
      "--Dentro del for\n",
      "Dentro del while - ciclo:  1\n",
      "--Dentro del for\n",
      "Dentro del while - ciclo:  2\n",
      "--Dentro del for\n",
      "Dentro del while - ciclo:  3\n",
      "--Dentro del for\n",
      "Dentro del while - ciclo:  4\n",
      "--Dentro del for\n",
      "Dentro del while - ciclo:  5\n",
      "--Dentro del for\n",
      "Dentro del while - ciclo:  6\n",
      "--Dentro del for\n",
      "Dentro del while - ciclo:  7\n",
      "--Dentro del for\n",
      "Dentro del while - ciclo:  8\n",
      "--Dentro del for\n",
      "Dentro del while - ciclo:  9\n",
      "--Dentro del for\n"
     ]
    }
   ],
   "source": [
    "#7\n",
    "n = 0\n",
    "while n < 10:\n",
    "    print('Dentro del while - ciclo: ', n)\n",
    "    for o in range(1,2):\n",
    "        print('--Dentro del for')\n",
    "    n+=1\n",
    "    "
   ]
  },
  {
   "cell_type": "code",
   "execution_count": 8,
   "metadata": {},
   "outputs": [
    {
     "name": "stdout",
     "output_type": "stream",
     "text": [
      "Dentro del for - ciclo:  1\n",
      "--Dentro del while\n",
      "--Dentro del while\n",
      "--Dentro del while\n",
      "Dentro del for - ciclo:  2\n",
      "--Dentro del while\n",
      "--Dentro del while\n",
      "--Dentro del while\n",
      "Dentro del for - ciclo:  3\n",
      "--Dentro del while\n",
      "--Dentro del while\n",
      "--Dentro del while\n",
      "Dentro del for - ciclo:  4\n",
      "--Dentro del while\n",
      "--Dentro del while\n",
      "--Dentro del while\n",
      "Dentro del for - ciclo:  5\n",
      "--Dentro del while\n",
      "--Dentro del while\n",
      "--Dentro del while\n"
     ]
    }
   ],
   "source": [
    "#8\n",
    "for n in range(1,6):\n",
    "    print('Dentro del for - ciclo: ', n)\n",
    "    i = 0\n",
    "    while i < 3:\n",
    "        print('--Dentro del while')\n",
    "        i+=1"
   ]
  },
  {
   "cell_type": "code",
   "execution_count": 62,
   "metadata": {},
   "outputs": [
    {
     "name": "stdout",
     "output_type": "stream",
     "text": [
      "2 ES PRIMO\n",
      "3 ES PRIMO\n",
      "5 ES PRIMO\n",
      "7 ES PRIMO\n",
      "11 ES PRIMO\n",
      "13 ES PRIMO\n",
      "17 ES PRIMO\n",
      "19 ES PRIMO\n",
      "23 ES PRIMO\n",
      "29 ES PRIMO\n"
     ]
    }
   ],
   "source": [
    "#9\n",
    "for n in range(2,30):\n",
    "    bandera_no_primo = False\n",
    "    for var_recorrer in range(2,n):\n",
    "        if n%var_recorrer == 0:\n",
    "            #print(n,' NO ES PRIMO')\n",
    "            bandera_no_primo = True\n",
    "            break\n",
    "    if bandera_no_primo == False:\n",
    "        print(n,'ES PRIMO')  \n",
    "    \n",
    "    \n"
   ]
  },
  {
   "cell_type": "code",
   "execution_count": 66,
   "metadata": {},
   "outputs": [
    {
     "name": "stdout",
     "output_type": "stream",
     "text": [
      "108\n",
      "120\n",
      "132\n",
      "144\n",
      "156\n",
      "168\n",
      "180\n",
      "192\n",
      "204\n",
      "216\n",
      "228\n",
      "240\n",
      "252\n",
      "264\n",
      "276\n",
      "288\n"
     ]
    }
   ],
   "source": [
    "#10\n",
    "for n in range(100,300):\n",
    "    if n%12 == 0:\n",
    "        print(n)\n"
   ]
  },
  {
   "cell_type": "code",
   "execution_count": 2,
   "metadata": {},
   "outputs": [
    {
     "name": "stdout",
     "output_type": "stream",
     "text": [
      "108  Es divisible por 12\n",
      "120  Es divisible por 12\n",
      "132  Es divisible por 12\n",
      "144  Es divisible por 12\n",
      "156  Es divisible por 12\n",
      "168  Es divisible por 12\n",
      "180  Es divisible por 12\n",
      "192  Es divisible por 12\n",
      "204  Es divisible por 12\n",
      "216  Es divisible por 12\n",
      "228  Es divisible por 12\n",
      "240  Es divisible por 12\n",
      "252  Es divisible por 12\n",
      "264  Es divisible por 12\n",
      "276  Es divisible por 12\n",
      "288  Es divisible por 12\n",
      "300  Es divisible por 12\n"
     ]
    }
   ],
   "source": [
    "#13\n",
    "n = 99\n",
    "while n<=300:\n",
    "    n+=1\n",
    "    if n%12 == 0:\n",
    "        print(n, ' Es divisible por 12')\n",
    "    else:\n",
    "        continue\n",
    "    \n"
   ]
  },
  {
   "cell_type": "code",
   "execution_count": 12,
   "metadata": {},
   "outputs": [
    {
     "name": "stdout",
     "output_type": "stream",
     "text": [
      "11 ES PRIMO\n"
     ]
    }
   ],
   "source": [
    "n = int(input ('Conocer si es numero primo'))\n",
    "bandera_no_primo = False\n",
    "for var_recorrer in range(2,n):\n",
    "     if n%var_recorrer == 0:\n",
    "        bandera_no_primo = True\n",
    "        break\n",
    "if bandera_no_primo == False:\n",
    "    print(n,'ES PRIMO')\n",
    "else:\n",
    "    print(n, 'No es primo')"
   ]
  },
  {
   "cell_type": "code",
   "execution_count": 6,
   "metadata": {},
   "outputs": [
    {
     "name": "stdout",
     "output_type": "stream",
     "text": [
      "1  El numero ingresado NO es primo\n",
      "1  El numero ingresado NO es primo\n",
      "11  El numero ingresado es primo\n",
      "17  El numero ingresado es primo\n",
      "PROCESO FINALIZADO\n"
     ]
    }
   ],
   "source": [
    "ciclos = True\n",
    "n = int(input(' Ingrese un numero'))\n",
    "while(ciclos == True):  \n",
    "  if n >= 2:\n",
    "    bandera_no_primo = False\n",
    "    for var_recorrer in range(2,n):\n",
    "      if n%var_recorrer == 0:\n",
    "        bandera_no_primo = True\n",
    "        break\n",
    "    if bandera_no_primo == False:\n",
    "      print(n,' El numero ingresado es primo')\n",
    "    else:\n",
    "      print(n,' El numero ingresado NO es primo')\n",
    "  else:\n",
    "    print(n,' El numero ingresado NO es primo')\n",
    "\n",
    "  n = int(input(' Desea ingresar otro numero'))\n",
    "  if n == 0:\n",
    "    print ('PROCESO FINALIZADO')\n",
    "    break"
   ]
  },
  {
   "cell_type": "code",
   "execution_count": null,
   "metadata": {},
   "outputs": [],
   "source": []
  }
 ],
 "metadata": {
  "interpreter": {
   "hash": "fe56f9a08210716b6e98575fb9a8b5eae9c9478a573f588df4f45459b28c3daa"
  },
  "kernelspec": {
   "display_name": "Python 3.9.5 ('base')",
   "language": "python",
   "name": "python3"
  },
  "language_info": {
   "codemirror_mode": {
    "name": "ipython",
    "version": 3
   },
   "file_extension": ".py",
   "mimetype": "text/x-python",
   "name": "python",
   "nbconvert_exporter": "python",
   "pygments_lexer": "ipython3",
   "version": "3.9.5"
  },
  "orig_nbformat": 4
 },
 "nbformat": 4,
 "nbformat_minor": 2
}
