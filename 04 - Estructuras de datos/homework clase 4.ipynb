{
 "cells": [
  {
   "cell_type": "code",
   "execution_count": 1,
   "metadata": {},
   "outputs": [
    {
     "name": "stdout",
     "output_type": "stream",
     "text": [
      "['Posadas', 'San Vicente', 'Obera', 'Iguazu', 'Eldorado']\n"
     ]
    }
   ],
   "source": [
    "#1\n",
    "lista_ciudades = ['Posadas', 'San Vicente','Obera','Iguazu','Eldorado']\n",
    "print(lista_ciudades)"
   ]
  },
  {
   "cell_type": "code",
   "execution_count": 2,
   "metadata": {},
   "outputs": [
    {
     "name": "stdout",
     "output_type": "stream",
     "text": [
      "San Vicente\n"
     ]
    }
   ],
   "source": [
    "#2\n",
    "print(lista_ciudades[1])"
   ]
  },
  {
   "cell_type": "code",
   "execution_count": 4,
   "metadata": {},
   "outputs": [
    {
     "name": "stdout",
     "output_type": "stream",
     "text": [
      "['San Vicente', 'Obera', 'Iguazu']\n"
     ]
    }
   ],
   "source": [
    "#3\n",
    "print(lista_ciudades[1:4])"
   ]
  },
  {
   "cell_type": "code",
   "execution_count": 5,
   "metadata": {},
   "outputs": [
    {
     "name": "stdout",
     "output_type": "stream",
     "text": [
      "<class 'list'>\n"
     ]
    }
   ],
   "source": [
    "#4\n",
    "print(type(lista_ciudades))"
   ]
  },
  {
   "cell_type": "code",
   "execution_count": 6,
   "metadata": {},
   "outputs": [
    {
     "name": "stdout",
     "output_type": "stream",
     "text": [
      "['Obera', 'Iguazu', 'Eldorado']\n"
     ]
    }
   ],
   "source": [
    "#5\n",
    "print(lista_ciudades[2:])"
   ]
  },
  {
   "cell_type": "code",
   "execution_count": 7,
   "metadata": {},
   "outputs": [
    {
     "name": "stdout",
     "output_type": "stream",
     "text": [
      "['Posadas', 'San Vicente', 'Obera', 'Iguazu']\n"
     ]
    }
   ],
   "source": [
    "#6\n",
    "print(lista_ciudades[0:4])"
   ]
  },
  {
   "cell_type": "code",
   "execution_count": 13,
   "metadata": {},
   "outputs": [
    {
     "name": "stdout",
     "output_type": "stream",
     "text": [
      "['Posadas', 'San Vicente', 'Obera', 'Iguazu', 'Eldorado', 'Eldorado', 'Puerto Piray']\n"
     ]
    }
   ],
   "source": [
    "#7 - agregar elemento al final\n",
    "lista_ciudades.append('Puerto Piray')\n",
    "print(lista_ciudades)"
   ]
  },
  {
   "cell_type": "code",
   "execution_count": 14,
   "metadata": {},
   "outputs": [
    {
     "name": "stdout",
     "output_type": "stream",
     "text": [
      "['Posadas', 'San Vicente', 'Obera', 'San Ignacio', 'Iguazu', 'Eldorado', 'Eldorado', 'Puerto Piray']\n"
     ]
    }
   ],
   "source": [
    "#8 - insertar elemento indicando indice\n",
    "lista_ciudades.insert(3,'San Ignacio')\n",
    "print(lista_ciudades)"
   ]
  },
  {
   "cell_type": "code",
   "execution_count": 15,
   "metadata": {},
   "outputs": [
    {
     "name": "stdout",
     "output_type": "stream",
     "text": [
      "['Posadas', 'San Vicente', 'Obera', 'San Ignacio', 'Iguazu', 'Eldorado', 'Eldorado', 'Puerto Piray', 'Corrientes', 'Ituzaingo']\n"
     ]
    }
   ],
   "source": [
    "#9 - concatenar otra lista nueva a mi lista\n",
    "lista_ciudades.extend(['Corrientes','Ituzaingo'])\n",
    "print(lista_ciudades)\n",
    "\n"
   ]
  },
  {
   "cell_type": "code",
   "execution_count": 16,
   "metadata": {},
   "outputs": [
    {
     "name": "stdout",
     "output_type": "stream",
     "text": [
      "5\n"
     ]
    }
   ],
   "source": [
    "#10 - buscar el indice de un elemento\n",
    "indice = lista_ciudades.index('Eldorado')\n",
    "print(indice)"
   ]
  },
  {
   "cell_type": "code",
   "execution_count": 17,
   "metadata": {},
   "outputs": [
    {
     "ename": "ValueError",
     "evalue": "'bs as' is not in list",
     "output_type": "error",
     "traceback": [
      "\u001b[1;31m---------------------------------------------------------------------------\u001b[0m",
      "\u001b[1;31mValueError\u001b[0m                                Traceback (most recent call last)",
      "\u001b[1;32m~\\AppData\\Local\\Temp/ipykernel_1152/4037967398.py\u001b[0m in \u001b[0;36m<module>\u001b[1;34m\u001b[0m\n\u001b[0;32m      1\u001b[0m \u001b[1;31m#11\u001b[0m\u001b[1;33m\u001b[0m\u001b[1;33m\u001b[0m\u001b[1;33m\u001b[0m\u001b[0m\n\u001b[1;32m----> 2\u001b[1;33m \u001b[0mindice\u001b[0m \u001b[1;33m=\u001b[0m \u001b[0mlista_ciudades\u001b[0m\u001b[1;33m.\u001b[0m\u001b[0mindex\u001b[0m\u001b[1;33m(\u001b[0m\u001b[1;34m'bs as'\u001b[0m\u001b[1;33m)\u001b[0m\u001b[1;33m\u001b[0m\u001b[1;33m\u001b[0m\u001b[0m\n\u001b[0m\u001b[0;32m      3\u001b[0m \u001b[0mprint\u001b[0m\u001b[1;33m(\u001b[0m\u001b[0mindice\u001b[0m\u001b[1;33m)\u001b[0m\u001b[1;33m\u001b[0m\u001b[1;33m\u001b[0m\u001b[0m\n",
      "\u001b[1;31mValueError\u001b[0m: 'bs as' is not in list"
     ]
    }
   ],
   "source": [
    "#11\n",
    "indice = lista_ciudades.index('bs as')\n",
    "print(indice)"
   ]
  },
  {
   "cell_type": "code",
   "execution_count": 18,
   "metadata": {},
   "outputs": [
    {
     "name": "stdout",
     "output_type": "stream",
     "text": [
      "['Posadas', 'Obera', 'San Ignacio', 'Iguazu', 'Eldorado', 'Eldorado', 'Puerto Piray', 'Corrientes', 'Ituzaingo']\n"
     ]
    }
   ],
   "source": [
    "#12 - eliminar elemento de la lista\n",
    "lista_ciudades.remove('San Vicente')\n",
    "print(lista_ciudades)"
   ]
  },
  {
   "cell_type": "code",
   "execution_count": 19,
   "metadata": {},
   "outputs": [
    {
     "ename": "ValueError",
     "evalue": "list.remove(x): x not in list",
     "output_type": "error",
     "traceback": [
      "\u001b[1;31m---------------------------------------------------------------------------\u001b[0m",
      "\u001b[1;31mValueError\u001b[0m                                Traceback (most recent call last)",
      "\u001b[1;32m~\\AppData\\Local\\Temp/ipykernel_1152/1547974823.py\u001b[0m in \u001b[0;36m<module>\u001b[1;34m\u001b[0m\n\u001b[0;32m      1\u001b[0m \u001b[1;31m#13 - eliminar un elemento que no existe\u001b[0m\u001b[1;33m\u001b[0m\u001b[1;33m\u001b[0m\u001b[1;33m\u001b[0m\u001b[0m\n\u001b[1;32m----> 2\u001b[1;33m \u001b[0mlista_ciudades\u001b[0m\u001b[1;33m.\u001b[0m\u001b[0mremove\u001b[0m\u001b[1;33m(\u001b[0m\u001b[1;34m'San Jorge'\u001b[0m\u001b[1;33m)\u001b[0m\u001b[1;33m\u001b[0m\u001b[1;33m\u001b[0m\u001b[0m\n\u001b[0m\u001b[0;32m      3\u001b[0m \u001b[0mprint\u001b[0m\u001b[1;33m(\u001b[0m\u001b[0mlista_ciudades\u001b[0m\u001b[1;33m)\u001b[0m\u001b[1;33m\u001b[0m\u001b[1;33m\u001b[0m\u001b[0m\n",
      "\u001b[1;31mValueError\u001b[0m: list.remove(x): x not in list"
     ]
    }
   ],
   "source": [
    "#13 - eliminar un elemento que no existe\n",
    "lista_ciudades.remove('San Jorge')\n",
    "print(lista_ciudades)"
   ]
  },
  {
   "cell_type": "code",
   "execution_count": 21,
   "metadata": {},
   "outputs": [
    {
     "name": "stdout",
     "output_type": "stream",
     "text": [
      "Ituzaingo\n",
      "Ituzaingo\n"
     ]
    }
   ],
   "source": [
    "#14 - extraer el ultimo elemento de la lista\n",
    "ultimo_elemento = lista_ciudades[-1]\n",
    "print(ultimo_elemento)\n",
    "\n",
    "ultimo_elemento1 = lista_ciudades.pop()\n",
    "print(ultimo_elemento1)"
   ]
  },
  {
   "cell_type": "code",
   "execution_count": 22,
   "metadata": {},
   "outputs": [
    {
     "name": "stdout",
     "output_type": "stream",
     "text": [
      "[1, 2, 3, 4, 5, 1, 2, 3, 4, 5, 1, 2, 3, 4, 5]\n"
     ]
    }
   ],
   "source": [
    "#15  - multiplicar mi lista 4 veces\n",
    "mi_lista = [1,2,3,4,5]\n",
    "print(mi_lista*3)"
   ]
  },
  {
   "cell_type": "code",
   "execution_count": 28,
   "metadata": {},
   "outputs": [
    {
     "name": "stdout",
     "output_type": "stream",
     "text": [
      "<class 'tuple'>\n"
     ]
    }
   ],
   "source": [
    "#16 - crear tupla\n",
    "mi_tupla = (1,2,3,4,5,6,7,8,9,10,11,12,13,14,15,16,17,18,19,20)\n",
    "print(type(mi_tupla))"
   ]
  },
  {
   "cell_type": "code",
   "execution_count": 27,
   "metadata": {},
   "outputs": [
    {
     "name": "stdout",
     "output_type": "stream",
     "text": [
      "(11, 12, 13, 14, 15)\n"
     ]
    }
   ],
   "source": [
    "#17- imprimir parte de tupla\n",
    "print(mi_tupla[10:15])"
   ]
  },
  {
   "cell_type": "code",
   "execution_count": 30,
   "metadata": {},
   "outputs": [
    {
     "name": "stdout",
     "output_type": "stream",
     "text": [
      "20 existe en la tupla\n",
      "30 No existe en la tupla\n"
     ]
    }
   ],
   "source": [
    "#18 - evaluar si un contenido esta en la tupla\n",
    "a = 20 in mi_tupla\n",
    "b = 30 in mi_tupla\n",
    "\n",
    "if a == True:\n",
    "    print('20 existe en la tupla')\n",
    "else:\n",
    "    print('20 No existe en la tupla')\n",
    "\n",
    "if b == True:\n",
    "    print('30 existe en la tupla')\n",
    "else:\n",
    "    print('30 No existe en la tupla')\n"
   ]
  },
  {
   "cell_type": "code",
   "execution_count": 42,
   "metadata": {},
   "outputs": [
    {
     "name": "stdout",
     "output_type": "stream",
     "text": [
      "El elemeno no existe y se agregará\n",
      "['Posadas', 'San Vicente', 'Obera', 'Iguazu', 'Eldorado', 'Paris']\n"
     ]
    }
   ],
   "source": [
    "#19 - Buscar coincidencia en lista\n",
    "\n",
    "lista_ciudades = ['Posadas', 'San Vicente','Obera','Iguazu','Eldorado']\n",
    "\n",
    "if lista_ciudades.count('Paris') == 0:\n",
    "    print(\"El elemeno no existe y se agregará\")\n",
    "    lista_ciudades.append('Paris')\n",
    "    print(lista_ciudades)\n",
    "else:\n",
    "    print('El elemento ya existe')"
   ]
  },
  {
   "cell_type": "code",
   "execution_count": 43,
   "metadata": {},
   "outputs": [
    {
     "name": "stdout",
     "output_type": "stream",
     "text": [
      "El elemento ya existe\n"
     ]
    }
   ],
   "source": [
    "if lista_ciudades.count('Paris') == 0:\n",
    "    print(\"El elemeno no existe y se agregará\")\n",
    "    lista_ciudades.append('Paris')\n",
    "else:\n",
    "    print('El elemento ya existe')"
   ]
  },
  {
   "cell_type": "code",
   "execution_count": 47,
   "metadata": {},
   "outputs": [
    {
     "name": "stdout",
     "output_type": "stream",
     "text": [
      "Se encontro coincidencia\n",
      "['Posadas', 'San Vicente', 'Obera', 'Iguazu', 'Eldorado', 'Paris']\n"
     ]
    }
   ],
   "source": [
    "#20 - Buscar coincidencia en lista\n",
    "\n",
    "if 'Paris' in lista_ciudades:\n",
    "    print ('Se encontro coincidencia')\n",
    "    print(lista_ciudades)\n",
    "else:\n",
    "    print('No se encontró')"
   ]
  },
  {
   "cell_type": "code",
   "execution_count": 49,
   "metadata": {},
   "outputs": [
    {
     "name": "stdout",
     "output_type": "stream",
     "text": [
      "[1, 2, 3, 4, 5, 6, 7, 8, 9, 10, 11, 12, 13, 14, 15, 16, 17, 18, 19, 20]\n",
      "<class 'list'>\n"
     ]
    }
   ],
   "source": [
    "#21 - Convertir tupla en lista\n",
    "\n",
    "nueva_lista = list(mi_tupla)\n",
    "\n",
    "print(nueva_lista)\n",
    "print(type(nueva_lista))"
   ]
  },
  {
   "cell_type": "code",
   "execution_count": 57,
   "metadata": {},
   "outputs": [
    {
     "name": "stdout",
     "output_type": "stream",
     "text": [
      "mi nombre es victor alvarenga\n",
      "mi edad es 31\n",
      "mi peso es 64\n",
      "mi altura es 1.8\n"
     ]
    }
   ],
   "source": [
    "#22 - Desempaquetar elementos de tupla en variables\n",
    "\n",
    "nueva_tupla = ('victor alvarenga',31,64,1.80)\n",
    "nombre, edad, peso, altura = nueva_tupla\n",
    "\n",
    "print(\"mi nombre es\",nombre)\n",
    "print(\"mi edad es\",edad)\n",
    "print(\"mi peso es\",peso)\n",
    "print(\"mi altura es\",altura)\n"
   ]
  },
  {
   "cell_type": "code",
   "execution_count": 58,
   "metadata": {},
   "outputs": [
    {
     "name": "stdout",
     "output_type": "stream",
     "text": [
      "{'ciudad': ['Posadas', 'Obera', 'Eldorado'], 'provincia': ['Misiones'], 'pais': ['Argentina'], 'continente': ['America']}\n",
      "<class 'dict'>\n"
     ]
    }
   ],
   "source": [
    "#23 - Crear Diccionario\n",
    "\n",
    "dic_lugares = {\n",
    "    'ciudad': ['Posadas','Obera','Eldorado'],\n",
    "    'provincia': ['Misiones'],\n",
    "    'pais':['Argentina'],\n",
    "    'continente': ['America']\n",
    "    }\n",
    "print(dic_lugares)\n",
    "print(type(dic_lugares))\n"
   ]
  },
  {
   "cell_type": "code",
   "execution_count": 107,
   "metadata": {},
   "outputs": [
    {
     "name": "stdout",
     "output_type": "stream",
     "text": [
      "{'ciudad': ['Posadas', 'Obera', 'Eldorado'], 'provincia': ['Misiones'], 'pais': ['Argentina'], 'continente': ['America'], 'viajes': ['españa', 'portugal', 'alemania']}\n"
     ]
    }
   ],
   "source": [
    "#23 bis - agregar una lista dentro de un diccionario\n",
    "viajes_2022 = ['españa','portugal','alemania']\n",
    "\n",
    "dic_lugares = {\n",
    "    'ciudad': ['Posadas','Obera','Eldorado'],\n",
    "    'provincia': ['Misiones'],\n",
    "    'pais':['Argentina'],\n",
    "    'continente': ['America'],\n",
    "    'viajes': viajes_2022\n",
    "    }\n",
    "print(dic_lugares)"
   ]
  },
  {
   "cell_type": "code",
   "execution_count": 59,
   "metadata": {},
   "outputs": [
    {
     "name": "stdout",
     "output_type": "stream",
     "text": [
      "dict_keys(['ciudad', 'provincia', 'pais', 'continente'])\n"
     ]
    }
   ],
   "source": [
    "#24 - imprimir claves del diccionario\n",
    "\n",
    "print(dic_lugares.keys())"
   ]
  },
  {
   "cell_type": "code",
   "execution_count": 61,
   "metadata": {},
   "outputs": [
    {
     "name": "stdout",
     "output_type": "stream",
     "text": [
      "['Posadas', 'Obera', 'Eldorado']\n"
     ]
    }
   ],
   "source": [
    "#25 - imprimir las ciudades de la clave ciudad\n",
    "\n",
    "print(dic_lugares['ciudad'])"
   ]
  },
  {
   "cell_type": "code",
   "execution_count": 64,
   "metadata": {},
   "outputs": [
    {
     "name": "stdout",
     "output_type": "stream",
     "text": [
      "['Posadas', 'Obera', 'Eldorado']\n"
     ]
    },
    {
     "data": {
      "text/plain": [
       "list"
      ]
     },
     "execution_count": 64,
     "metadata": {},
     "output_type": "execute_result"
    }
   ],
   "source": [
    "a =  dic_lugares['ciudad']\n",
    "print(a)\n",
    "type(a)"
   ]
  },
  {
   "cell_type": "code",
   "execution_count": 69,
   "metadata": {},
   "outputs": [
    {
     "name": "stdout",
     "output_type": "stream",
     "text": [
      "[1, 2, 3, 4, ['victor', 'marco', 'daniela']]\n",
      "1\n",
      "['victor', 'marco', 'daniela']\n",
      "marco\n"
     ]
    }
   ],
   "source": [
    "# 26 - insertar lista dentro de otra lista\n",
    "lista2 = ['victor','marco','daniela']\n",
    "union_listas = [1,2,3,4,lista2]\n",
    "\n",
    "print(union_listas) ##imprimo la lista\n",
    "\n",
    "print(union_listas[0]) ##accedo a un elemento de la primera lista\n",
    "\n",
    "print(union_listas[4]) ##imprimo la posicion donde esta la lista\n",
    "\n",
    "print(union_listas[4][1]) ##imprimo elemento de la segunda lista interna"
   ]
  },
  {
   "cell_type": "code",
   "execution_count": 70,
   "metadata": {},
   "outputs": [
    {
     "name": "stdout",
     "output_type": "stream",
     "text": [
      "victor\n",
      "daniela\n",
      "marco\n"
     ]
    }
   ],
   "source": [
    "#27 - recorrer lista con bucle\n",
    "\n",
    "nombres = ['victor','daniela','marco']\n",
    "\n",
    "for elemento in nombres:\n",
    "    print(elemento)\n",
    "    "
   ]
  },
  {
   "cell_type": "code",
   "execution_count": 75,
   "metadata": {},
   "outputs": [
    {
     "name": "stdout",
     "output_type": "stream",
     "text": [
      "jorge\n",
      "julio\n",
      "victoria\n",
      "amanda\n",
      "bogota\n"
     ]
    }
   ],
   "source": [
    "#28 - recorrer lista dentro de otra lista\n",
    "lis1 = ['jorge','julio','victoria','amanda','bogota']\n",
    "lis2 = [1,2,3,lis1]\n",
    "\n",
    "for elemento in lis2[3]:\n",
    "    print(elemento)"
   ]
  },
  {
   "cell_type": "code",
   "execution_count": 83,
   "metadata": {},
   "outputs": [
    {
     "name": "stdout",
     "output_type": "stream",
     "text": [
      "['amanda', 'bogota', 'jorge', 'julio', 'victoria']\n",
      "[1, 3, 5, 7, 9]\n"
     ]
    }
   ],
   "source": [
    "#29 - ordenar lista\n",
    "lis1 = ['jorge','julio','victoria','amanda','bogota']\n",
    "lis2 = [9,7,5,3,1]\n",
    "lis1.sort()\n",
    "lis2.sort()\n",
    "print(lis1)\n",
    "print(lis2)"
   ]
  },
  {
   "cell_type": "code",
   "execution_count": 87,
   "metadata": {},
   "outputs": [
    {
     "name": "stdout",
     "output_type": "stream",
     "text": [
      "El elemento Brasilia se repite 1 veces\n",
      "El elemento Buenos Aires se repite 2 veces\n",
      "El elemento Cancun se repite 1 veces\n",
      "El elemento Cordoba se repite 1 veces\n",
      "El elemento Lima se repite 2 veces\n",
      "El elemento Madrid se repite 1 veces\n"
     ]
    }
   ],
   "source": [
    "#30 contar apariciones de palabras\n",
    "\n",
    "lista = ['Buenos Aires','Madrid','Brasilia','Cancun','Lima','Cordoba','Buenos Aires','Lima']\n",
    "lista.sort()\n",
    "\n",
    "elemento_anterior = ''\n",
    "for elemento in lista:\n",
    "    if elemento != elemento_anterior:\n",
    "        cantidad_apariciones = lista.count(elemento)\n",
    "        print('El elemento',elemento,'se repite',cantidad_apariciones,'veces')\n",
    "        elemento_anterior = elemento"
   ]
  },
  {
   "cell_type": "code",
   "execution_count": 105,
   "metadata": {},
   "outputs": [
    {
     "name": "stdout",
     "output_type": "stream",
     "text": [
      "(1, 2, 3, 4)\n",
      "2\n"
     ]
    }
   ],
   "source": [
    "#31 - crear lista con range\n",
    "\n",
    "a_tupla = tuple(range(1,5))\n",
    "print(a_tupla)\n",
    "print(a_tupla[1])"
   ]
  },
  {
   "cell_type": "code",
   "execution_count": 106,
   "metadata": {},
   "outputs": [
    {
     "name": "stdout",
     "output_type": "stream",
     "text": [
      "1 2 3\n"
     ]
    }
   ],
   "source": [
    "#desempaquetar tupla en variables\n",
    "b,c,d,_, = a_tupla #si la tupla tiene 4 elementos si o si debo desempaquetar los 4 elemento o usar un \"_,\" para no desempaquetarlo\n",
    "print(b,c,d)"
   ]
  },
  {
   "cell_type": "markdown",
   "metadata": {},
   "source": [
    "ANOTACIONES DE ITERADORES"
   ]
  },
  {
   "cell_type": "code",
   "execution_count": 109,
   "metadata": {},
   "outputs": [
    {
     "name": "stdout",
     "output_type": "stream",
     "text": [
      "jorge\n",
      "daniela\n",
      "emanuel\n",
      "cecilia\n",
      "True\n",
      "20\n"
     ]
    }
   ],
   "source": [
    "# 1 forma de recorrer lista \"while\"\n",
    "\n",
    "lista = ['jorge','daniela','emanuel','cecilia',True,20]\n",
    "\n",
    "n = 0\n",
    "while (n<len(lista)):\n",
    "    print(lista[n])\n",
    "    n+=1"
   ]
  },
  {
   "cell_type": "code",
   "execution_count": 111,
   "metadata": {},
   "outputs": [
    {
     "name": "stdout",
     "output_type": "stream",
     "text": [
      "jorge\n",
      "daniela\n",
      "emanuel\n",
      "cecilia\n",
      "True\n",
      "20\n"
     ]
    }
   ],
   "source": [
    "# 1 forma de recorrer lista \"for\"\n",
    "\n",
    "lista = ['jorge','daniela','emanuel','cecilia',True,20]\n",
    "\n",
    "for elemento in lista:\n",
    "    print(elemento)"
   ]
  },
  {
   "cell_type": "code",
   "execution_count": null,
   "metadata": {},
   "outputs": [],
   "source": [
    "# Recorrer una cadena de caracteres\n",
    "\n",
    "cadena = 'ana tiene un gato llamado anastacia'\n",
    "\n",
    "for caracter in cadena:\n",
    "    print(caracter)\n"
   ]
  },
  {
   "cell_type": "code",
   "execution_count": 139,
   "metadata": {},
   "outputs": [
    {
     "name": "stdout",
     "output_type": "stream",
     "text": [
      "[9, 4, 5, 3, 2, 2, 1, 1, 2, 2, 1, 1, 1, 1]\n",
      "La letra ganadora es a con 9 repeticiones\n"
     ]
    }
   ],
   "source": [
    "# Recorrer una cadena de caracteres y contar letras\n",
    "\n",
    "cadena = 'ana tiene un gato llamado anastacia'\n",
    "lista_control_car = []\n",
    "lista_control_rep = []\n",
    "\n",
    "for caracter in cadena:\n",
    "    if caracter in lista_control_car:\n",
    "        continue\n",
    "    else:\n",
    "        aparicion = cadena.count(caracter)\n",
    "        lista_control_car.append(caracter)\n",
    "        lista_control_rep.append(aparicion)\n",
    "\n",
    "print(lista_control_rep)\n",
    "\n",
    "mayor = 0\n",
    "n=0\n",
    "while n < len(lista_control_car):\n",
    "    if lista_control_rep[n] > mayor:\n",
    "        mayor = lista_control_rep[n]\n",
    "        caracter_ganador = lista_control_car[n]\n",
    "    n+=1\n",
    "print ('La letra ganadora es',caracter_ganador,'con',mayor,'repeticiones')\n"
   ]
  },
  {
   "cell_type": "code",
   "execution_count": 141,
   "metadata": {},
   "outputs": [
    {
     "name": "stdout",
     "output_type": "stream",
     "text": [
      "['r', 'r', 'r', 'r']\n",
      "4\n"
     ]
    }
   ],
   "source": [
    "# Otra forma de contar caracteres\n",
    "\n",
    "frase = 'el perro tiene rabia en el rabo'\n",
    "\n",
    "letra_r = [caracter for caracter in frase if caracter =='r']\n",
    "\n",
    "print (letra_r)\n",
    "print(len(letra_r))"
   ]
  },
  {
   "cell_type": "code",
   "execution_count": 9,
   "metadata": {},
   "outputs": [
    {
     "name": "stdout",
     "output_type": "stream",
     "text": [
      "['a', 'n', ' ', 't', 'i', 'e', 'u', 'g', 'o', 'l', 'm', 'd', 's', 'c'] [9, 4, 5, 3, 2, 2, 1, 1, 2, 2, 1, 1, 1, 1]\n",
      "0 9 el caracter es a\n"
     ]
    }
   ],
   "source": [
    "cadena = 'ana tiene un gato llamado anastacia'\n",
    "lista_control = []\n",
    "lista_repeticiones = []\n",
    "\n",
    "n = 0\n",
    "while n < len(cadena):\n",
    "    if cadena[n] in lista_control:\n",
    "        pass\n",
    "    else:\n",
    "        apariciones = len([caracter for caracter in cadena if caracter == cadena[n]])\n",
    "        lista_control.append(cadena[n])\n",
    "        lista_repeticiones.append(apariciones)\n",
    "    n+=1\n",
    "print(lista_control,lista_repeticiones)\n",
    "\n",
    "mayor = 0\n",
    "indice = 0\n",
    "\n",
    "for elemento in lista_repeticiones:\n",
    "    if elemento > mayor:\n",
    "        mayor = elemento\n",
    "        indice_ganador = indice\n",
    "    indice+=1\n",
    "print (indice_ganador, mayor,'el caracter es',lista_control[indice_ganador])\n",
    "\n",
    "\n",
    "\n"
   ]
  }
 ],
 "metadata": {
  "interpreter": {
   "hash": "fe56f9a08210716b6e98575fb9a8b5eae9c9478a573f588df4f45459b28c3daa"
  },
  "kernelspec": {
   "display_name": "Python 3.9.5 ('base')",
   "language": "python",
   "name": "python3"
  },
  "language_info": {
   "codemirror_mode": {
    "name": "ipython",
    "version": 3
   },
   "file_extension": ".py",
   "mimetype": "text/x-python",
   "name": "python",
   "nbconvert_exporter": "python",
   "pygments_lexer": "ipython3",
   "version": "3.9.5"
  },
  "orig_nbformat": 4
 },
 "nbformat": 4,
 "nbformat_minor": 2
}
